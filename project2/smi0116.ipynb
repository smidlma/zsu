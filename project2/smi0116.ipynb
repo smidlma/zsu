{
 "cells": [
  {
   "cell_type": "code",
   "execution_count": 17,
   "metadata": {},
   "outputs": [],
   "source": [
    "import numpy as np\n",
    "import pandas as pd\n",
    "import seaborn as sns\n",
    "import matplotlib.pyplot as plt\n",
    "import math\n",
    "\n",
    "from sklearn.tree import DecisionTreeClassifier\n",
    "from sklearn.model_selection import train_test_split, StratifiedKFold, KFold\n",
    "from sklearn.metrics import accuracy_score, f1_score, recall_score, precision_score, confusion_matrix, auc\n",
    "from sklearn.preprocessing import OrdinalEncoder\n",
    "from sklearn.neural_network import MLPClassifier"
   ]
  },
  {
   "cell_type": "code",
   "execution_count": 18,
   "metadata": {},
   "outputs": [],
   "source": [
    "df = pd.read_csv('kddcup99_csv.csv', sep=',')"
   ]
  },
  {
   "cell_type": "markdown",
   "metadata": {},
   "source": [
    "# KDD Cup 99\n",
    "\n",
    "Dataset obsahuje zaznamenanou komunikaci v siti ktera mela simulovat realne provoz ve vojenske siti. Kazdy zaznam obsahuje informace rozparsovany tcp packet. Z jednotlivych atributu chceme zjistit, zda se jedna o dobrou, ci spatnou komunikaci (utok). Nasledne se tento utok deli na dalsi kategorie.\n",
    "\n",
    "* DOS: denial-of-service, e.g. syn flood;\n",
    "* R2L: unauthorized access from a remote machine, e.g. guessing password;\n",
    "* U2R: unauthorized access to local superuser (root) privileges, e.g., various ``buffer overflow’’ attacks;\n",
    "* probing: surveillance and other probing, e.g., port scanning.\n",
    "\n",
    "Podivame se na par zakladnich atributu."
   ]
  },
  {
   "cell_type": "code",
   "execution_count": 19,
   "metadata": {},
   "outputs": [
    {
     "data": {
      "text/plain": [
       "duration                         int64\n",
       "protocol_type                   object\n",
       "service                         object\n",
       "flag                            object\n",
       "src_bytes                        int64\n",
       "dst_bytes                        int64\n",
       "land                             int64\n",
       "wrong_fragment                   int64\n",
       "urgent                           int64\n",
       "hot                              int64\n",
       "num_failed_logins                int64\n",
       "logged_in                        int64\n",
       "lnum_compromised                 int64\n",
       "lroot_shell                      int64\n",
       "lsu_attempted                    int64\n",
       "lnum_root                        int64\n",
       "lnum_file_creations              int64\n",
       "lnum_shells                      int64\n",
       "lnum_access_files                int64\n",
       "lnum_outbound_cmds               int64\n",
       "is_host_login                    int64\n",
       "is_guest_login                   int64\n",
       "count                            int64\n",
       "srv_count                        int64\n",
       "serror_rate                    float64\n",
       "srv_serror_rate                float64\n",
       "rerror_rate                    float64\n",
       "srv_rerror_rate                float64\n",
       "same_srv_rate                  float64\n",
       "diff_srv_rate                  float64\n",
       "srv_diff_host_rate             float64\n",
       "dst_host_count                   int64\n",
       "dst_host_srv_count               int64\n",
       "dst_host_same_srv_rate         float64\n",
       "dst_host_diff_srv_rate         float64\n",
       "dst_host_same_src_port_rate    float64\n",
       "dst_host_srv_diff_host_rate    float64\n",
       "dst_host_serror_rate           float64\n",
       "dst_host_srv_serror_rate       float64\n",
       "dst_host_rerror_rate           float64\n",
       "dst_host_srv_rerror_rate       float64\n",
       "label                           object\n",
       "dtype: object"
      ]
     },
     "execution_count": 19,
     "metadata": {},
     "output_type": "execute_result"
    }
   ],
   "source": [
    "df.dtypes"
   ]
  },
  {
   "cell_type": "code",
   "execution_count": 34,
   "metadata": {},
   "outputs": [
    {
     "data": {
      "text/plain": [
       "0.00    458791\n",
       "1.00     26040\n",
       "0.01      1596\n",
       "0.02       932\n",
       "0.04       801\n",
       "         ...  \n",
       "0.63        19\n",
       "0.34        18\n",
       "0.46        15\n",
       "0.39        14\n",
       "0.79        13\n",
       "Name: dst_host_rerror_rate, Length: 101, dtype: int64"
      ]
     },
     "execution_count": 34,
     "metadata": {},
     "output_type": "execute_result"
    }
   ],
   "source": [
    "df.dst_host_rerror_rate.value_counts()"
   ]
  },
  {
   "cell_type": "markdown",
   "metadata": {},
   "source": [
    "## Nas target atr. neboli vyhodnocene pripojeni\n",
    "Abychom byli schopni provest klasifikaci, budeme muset objekt filtrovat, \"normal\" bude good connection a zbytek bad connection.\n",
    "\n",
    "respektive 0-Good, 1-Bad "
   ]
  },
  {
   "cell_type": "code",
   "execution_count": 20,
   "metadata": {},
   "outputs": [
    {
     "data": {
      "text/plain": [
       "array(['normal', 'buffer_overflow', 'loadmodule', 'perl', 'neptune',\n",
       "       'smurf', 'guess_passwd', 'pod', 'teardrop', 'portsweep', 'ipsweep',\n",
       "       'land', 'ftp_write', 'back', 'imap', 'satan', 'phf', 'nmap',\n",
       "       'multihop', 'warezmaster', 'warezclient', 'spy', 'rootkit'],\n",
       "      dtype=object)"
      ]
     },
     "execution_count": 20,
     "metadata": {},
     "output_type": "execute_result"
    }
   ],
   "source": [
    "df.label.unique()"
   ]
  },
  {
   "cell_type": "code",
   "execution_count": 29,
   "metadata": {},
   "outputs": [
    {
     "data": {
      "text/plain": [
       "smurf              280790\n",
       "neptune            107201\n",
       "normal              97277\n",
       "back                 2203\n",
       "satan                1589\n",
       "ipsweep              1247\n",
       "portsweep            1040\n",
       "warezclient          1020\n",
       "teardrop              979\n",
       "pod                   264\n",
       "nmap                  231\n",
       "guess_passwd           53\n",
       "buffer_overflow        30\n",
       "land                   21\n",
       "warezmaster            20\n",
       "imap                   12\n",
       "rootkit                10\n",
       "loadmodule              9\n",
       "ftp_write               8\n",
       "multihop                7\n",
       "phf                     4\n",
       "perl                    3\n",
       "spy                     2\n",
       "Name: label, dtype: int64"
      ]
     },
     "execution_count": 29,
     "metadata": {},
     "output_type": "execute_result"
    }
   ],
   "source": [
    "df.label.value_counts()"
   ]
  },
  {
   "cell_type": "markdown",
   "metadata": {},
   "source": [
    "## Protokoly pripojeni"
   ]
  },
  {
   "cell_type": "code",
   "execution_count": 21,
   "metadata": {},
   "outputs": [
    {
     "data": {
      "text/plain": [
       "array(['tcp', 'udp', 'icmp'], dtype=object)"
      ]
     },
     "execution_count": 21,
     "metadata": {},
     "output_type": "execute_result"
    }
   ],
   "source": [
    "df.protocol_type.unique()"
   ]
  },
  {
   "cell_type": "markdown",
   "metadata": {},
   "source": [
    "## Servisy"
   ]
  },
  {
   "cell_type": "code",
   "execution_count": 22,
   "metadata": {},
   "outputs": [
    {
     "data": {
      "text/plain": [
       "array(['http', 'smtp', 'finger', 'domain_u', 'auth', 'telnet', 'ftp',\n",
       "       'eco_i', 'ntp_u', 'ecr_i', 'other', 'private', 'pop_3', 'ftp_data',\n",
       "       'rje', 'time', 'mtp', 'link', 'remote_job', 'gopher', 'ssh',\n",
       "       'name', 'whois', 'domain', 'login', 'imap4', 'daytime', 'ctf',\n",
       "       'nntp', 'shell', 'IRC', 'nnsp', 'http_443', 'exec', 'printer',\n",
       "       'efs', 'courier', 'uucp', 'klogin', 'kshell', 'echo', 'discard',\n",
       "       'systat', 'supdup', 'iso_tsap', 'hostnames', 'csnet_ns', 'pop_2',\n",
       "       'sunrpc', 'uucp_path', 'netbios_ns', 'netbios_ssn', 'netbios_dgm',\n",
       "       'sql_net', 'vmnet', 'bgp', 'Z39_50', 'ldap', 'netstat', 'urh_i',\n",
       "       'X11', 'urp_i', 'pm_dump', 'tftp_u', 'tim_i', 'red_i'],\n",
       "      dtype=object)"
      ]
     },
     "execution_count": 22,
     "metadata": {},
     "output_type": "execute_result"
    }
   ],
   "source": [
    "df.service.unique()"
   ]
  },
  {
   "cell_type": "markdown",
   "metadata": {},
   "source": [
    "### Uz ted vime, ze budeme muset prevest objekty na enums aby se s nimi nas model vyporadal"
   ]
  },
  {
   "cell_type": "code",
   "execution_count": 30,
   "metadata": {},
   "outputs": [
    {
     "data": {
      "text/plain": [
       "SF        378439\n",
       "S0         87007\n",
       "REJ        26875\n",
       "RSTR         903\n",
       "RSTO         579\n",
       "SH           107\n",
       "S1            57\n",
       "S2            24\n",
       "RSTOS0        11\n",
       "S3            10\n",
       "OTH            8\n",
       "Name: flag, dtype: int64"
      ]
     },
     "execution_count": 30,
     "metadata": {},
     "output_type": "execute_result"
    }
   ],
   "source": [
    "df.flag.value_counts()"
   ]
  },
  {
   "cell_type": "code",
   "execution_count": 35,
   "metadata": {},
   "outputs": [
    {
     "data": {
      "text/html": [
       "<div>\n",
       "<style scoped>\n",
       "    .dataframe tbody tr th:only-of-type {\n",
       "        vertical-align: middle;\n",
       "    }\n",
       "\n",
       "    .dataframe tbody tr th {\n",
       "        vertical-align: top;\n",
       "    }\n",
       "\n",
       "    .dataframe thead th {\n",
       "        text-align: right;\n",
       "    }\n",
       "</style>\n",
       "<table border=\"1\" class=\"dataframe\">\n",
       "  <thead>\n",
       "    <tr style=\"text-align: right;\">\n",
       "      <th></th>\n",
       "      <th>protocol_type</th>\n",
       "      <th>service</th>\n",
       "      <th>flag</th>\n",
       "      <th>label</th>\n",
       "    </tr>\n",
       "  </thead>\n",
       "  <tbody>\n",
       "    <tr>\n",
       "      <th>count</th>\n",
       "      <td>494020</td>\n",
       "      <td>494020</td>\n",
       "      <td>494020</td>\n",
       "      <td>494020</td>\n",
       "    </tr>\n",
       "    <tr>\n",
       "      <th>unique</th>\n",
       "      <td>3</td>\n",
       "      <td>66</td>\n",
       "      <td>11</td>\n",
       "      <td>23</td>\n",
       "    </tr>\n",
       "    <tr>\n",
       "      <th>top</th>\n",
       "      <td>icmp</td>\n",
       "      <td>ecr_i</td>\n",
       "      <td>SF</td>\n",
       "      <td>smurf</td>\n",
       "    </tr>\n",
       "    <tr>\n",
       "      <th>freq</th>\n",
       "      <td>283602</td>\n",
       "      <td>281400</td>\n",
       "      <td>378439</td>\n",
       "      <td>280790</td>\n",
       "    </tr>\n",
       "  </tbody>\n",
       "</table>\n",
       "</div>"
      ],
      "text/plain": [
       "       protocol_type service    flag   label\n",
       "count         494020  494020  494020  494020\n",
       "unique             3      66      11      23\n",
       "top             icmp   ecr_i      SF   smurf\n",
       "freq          283602  281400  378439  280790"
      ]
     },
     "execution_count": 35,
     "metadata": {},
     "output_type": "execute_result"
    }
   ],
   "source": [
    "df.describe(exclude=np.number)"
   ]
  },
  {
   "cell_type": "markdown",
   "metadata": {},
   "source": [
    "## Chybejici atributy ?\n",
    "Zadne nejsou "
   ]
  },
  {
   "cell_type": "code",
   "execution_count": 36,
   "metadata": {},
   "outputs": [
    {
     "data": {
      "text/plain": [
       "duration                       0\n",
       "dst_host_count                 0\n",
       "srv_count                      0\n",
       "serror_rate                    0\n",
       "srv_serror_rate                0\n",
       "rerror_rate                    0\n",
       "srv_rerror_rate                0\n",
       "same_srv_rate                  0\n",
       "diff_srv_rate                  0\n",
       "srv_diff_host_rate             0\n",
       "dst_host_srv_count             0\n",
       "protocol_type                  0\n",
       "dst_host_same_srv_rate         0\n",
       "dst_host_diff_srv_rate         0\n",
       "dst_host_same_src_port_rate    0\n",
       "dst_host_srv_diff_host_rate    0\n",
       "dst_host_serror_rate           0\n",
       "dst_host_srv_serror_rate       0\n",
       "dst_host_rerror_rate           0\n",
       "dst_host_srv_rerror_rate       0\n",
       "count                          0\n",
       "is_guest_login                 0\n",
       "is_host_login                  0\n",
       "lnum_outbound_cmds             0\n",
       "service                        0\n",
       "flag                           0\n",
       "src_bytes                      0\n",
       "dst_bytes                      0\n",
       "land                           0\n",
       "wrong_fragment                 0\n",
       "urgent                         0\n",
       "hot                            0\n",
       "num_failed_logins              0\n",
       "logged_in                      0\n",
       "lnum_compromised               0\n",
       "lroot_shell                    0\n",
       "lsu_attempted                  0\n",
       "lnum_root                      0\n",
       "lnum_file_creations            0\n",
       "lnum_shells                    0\n",
       "lnum_access_files              0\n",
       "label                          0\n",
       "dtype: int64"
      ]
     },
     "execution_count": 36,
     "metadata": {},
     "output_type": "execute_result"
    }
   ],
   "source": [
    "df.apply(lambda x: x.isna().sum()).sort_values(ascending=False)"
   ]
  }
 ],
 "metadata": {
  "interpreter": {
   "hash": "4dcec04828137d5e394fc7270d61102768a8cb7f1f9ac4e35da5bb2c7b1808ce"
  },
  "kernelspec": {
   "display_name": "Python 3.8.10 64-bit ('venv': venv)",
   "language": "python",
   "name": "python3"
  },
  "language_info": {
   "codemirror_mode": {
    "name": "ipython",
    "version": 3
   },
   "file_extension": ".py",
   "mimetype": "text/x-python",
   "name": "python",
   "nbconvert_exporter": "python",
   "pygments_lexer": "ipython3",
   "version": "3.8.10"
  },
  "orig_nbformat": 4
 },
 "nbformat": 4,
 "nbformat_minor": 2
}
